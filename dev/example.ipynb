{
 "cells": [
  {
   "cell_type": "code",
   "execution_count": 1,
   "id": "256e1253",
   "metadata": {},
   "outputs": [],
   "source": [
    "%load_ext autoreload\n",
    "%autoreload 2"
   ]
  },
  {
   "cell_type": "code",
   "execution_count": 2,
   "id": "34b5a027",
   "metadata": {},
   "outputs": [],
   "source": [
    "import astroinject\n",
    "\n",
    "from astroinject.pipeline.apply_index import apply_pgsphere_index, apply_q3c_index, apply_btree_index\n",
    "from astroinject.pipeline.injection import injection_procedure, create_table, parallel_insertion\n",
    "\n",
    "from astroinject.utils import find_files_with_pattern\n",
    "from astroinject.config import load_config\n",
    "\n",
    "from astroinject.pipeline.map_tap_schema import map_table\n",
    "\n",
    "import warnings\n",
    "from logpool import control"
   ]
  },
  {
   "cell_type": "markdown",
   "id": "2c542e02",
   "metadata": {},
   "source": [
    "# Creating config"
   ]
  },
  {
   "cell_type": "code",
   "execution_count": null,
   "id": "c237c5be",
   "metadata": {},
   "outputs": [],
   "source": [
    "config = {\n",
    "    'database': \n",
    "    {\n",
    "        'dbname': '',\n",
    "        'user': '',\n",
    "        'password': '',\n",
    "        'host': '',\n",
    "        'port': 5432\n",
    "    },\n",
    "    'general': {'injection_processes': 6},\n",
    "    'folder': '/home/astrodados3/splus/idr6_final',\n",
    "    'pattern': '*.fits',\n",
    "    'tablename': 'teste',\n",
    "    'force_cast_correction': False,\n",
    "    'id_col': 'id',\n",
    "    'ra_col': 'ra',\n",
    "    'dec_col': 'dec',\n",
    "    'index_type': 'pgsphere',\n",
    "    'additional_btree_index': ['field'],\n",
    "    'rename_columns': {},\n",
    "    'delete_columns': [],\n",
    "    'patterns_to_replace': [],\n",
    "    'mask_value': 'None'\n",
    "}"
   ]
  },
  {
   "cell_type": "markdown",
   "id": "50c97d17",
   "metadata": {},
   "source": [
    "# injecting files written in disk"
   ]
  },
  {
   "cell_type": "code",
   "execution_count": null,
   "id": "db8b7385",
   "metadata": {},
   "outputs": [],
   "source": [
    "control.info(\"starting injection procedure\")\n",
    "control.info(f\"config: \\n{config}\")\n",
    "\n",
    "files = find_files_with_pattern(\n",
    "    config[\"folder\"],\n",
    "    config[\"pattern\"]\n",
    ")\n",
    "\n",
    "control.info(f\"found {len(files)} files to inject\")\n",
    "\n",
    "parallel_insertion(files, config)\n",
    "\n",
    "if \"additional_btree_index\" in config and config[\"additional_btree_index\"]:\n",
    "    control.info(\"creating additional B-Tree index\")\n",
    "    apply_btree_index(config)\n",
    "\n",
    "if not \"index_type\" in config or config[\"index_type\"] is None:\n",
    "    control.info(\"no index type specified, skipping index creation\")\n",
    "elif config[\"index_type\"] == \"pgsphere\":\n",
    "    apply_pgsphere_index(config)\n",
    "elif config[\"index_type\"] == \"q3c\":\n",
    "    apply_q3c_index(config)"
   ]
  },
  {
   "cell_type": "markdown",
   "id": "5c4925da",
   "metadata": {},
   "source": [
    "# Injecting files on memory"
   ]
  },
  {
   "cell_type": "code",
   "execution_count": 21,
   "id": "2e88f454",
   "metadata": {},
   "outputs": [],
   "source": [
    "import numpy as np \n",
    "from astropy.table import Table"
   ]
  },
  {
   "cell_type": "code",
   "execution_count": 25,
   "id": "2aa062e4",
   "metadata": {},
   "outputs": [],
   "source": [
    "# create table with random data using numpy\n",
    "\n",
    "tab = Table()\n",
    "tab['id'] = np.random.rand(100)\n",
    "tab['ra'] = np.random.rand(100)\n",
    "tab['dec'] = np.random.rand(100)"
   ]
  },
  {
   "cell_type": "code",
   "execution_count": 30,
   "id": "1d8cd755",
   "metadata": {},
   "outputs": [
    {
     "name": "stdout",
     "output_type": "stream",
     "text": [
      "01/09/2025 11:04:08  [info] - 660484 - injection.py - create_table() - Creating table teste in the database\n",
      "01/09/2025 11:04:08  [info] - 660484 - injection.py - create_table() - Query: \n",
      "CREATE TABLE IF NOT EXISTS teste (\n",
      "    id FLOAT8 PRIMARY KEY,\n",
      "    ra FLOAT8 NULL,\n",
      "    dec FLOAT8 NULL\n",
      ");\n"
     ]
    }
   ],
   "source": [
    "create_table(tab, config)"
   ]
  },
  {
   "cell_type": "code",
   "execution_count": 31,
   "id": "2250ad72",
   "metadata": {},
   "outputs": [],
   "source": [
    "from astroinject.database.types import build_type_map\n",
    "types_map = build_type_map(config) if config.get(\"force_cast_correction\") else None"
   ]
  },
  {
   "cell_type": "code",
   "execution_count": 32,
   "id": "884b1834",
   "metadata": {},
   "outputs": [
    {
     "name": "stdout",
     "output_type": "stream",
     "text": [
      "01/09/2025 11:04:10  [info] - 660484 - injection.py - injection_procedure() - Injecting table Memory file. into the database\n",
      "✅ Inserted 100 rows into teste using COPY (no conflict handling).\n"
     ]
    }
   ],
   "source": [
    "injection_procedure(tab, types_map, config)"
   ]
  },
  {
   "cell_type": "code",
   "execution_count": null,
   "id": "aa9489ee",
   "metadata": {},
   "outputs": [],
   "source": []
  }
 ],
 "metadata": {
  "kernelspec": {
   "display_name": "base",
   "language": "python",
   "name": "python3"
  },
  "language_info": {
   "codemirror_mode": {
    "name": "ipython",
    "version": 3
   },
   "file_extension": ".py",
   "mimetype": "text/x-python",
   "name": "python",
   "nbconvert_exporter": "python",
   "pygments_lexer": "ipython3",
   "version": "3.12.8"
  }
 },
 "nbformat": 4,
 "nbformat_minor": 5
}
